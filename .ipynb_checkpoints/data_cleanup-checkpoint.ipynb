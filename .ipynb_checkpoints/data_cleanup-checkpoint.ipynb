{
 "cells": [
  {
   "cell_type": "code",
   "execution_count": 2,
   "id": "1f38f81d",
   "metadata": {},
   "outputs": [],
   "source": [
    "import pandas as pd\n",
    "import numpy as np\n",
    "import streamlit as st\n",
    "import altair as alt\n",
    "from datetime import datetime as dt"
   ]
  },
  {
   "cell_type": "code",
   "execution_count": 5,
   "id": "a1206d9f",
   "metadata": {},
   "outputs": [
    {
     "data": {
      "text/html": [
       "<div>\n",
       "<style scoped>\n",
       "    .dataframe tbody tr th:only-of-type {\n",
       "        vertical-align: middle;\n",
       "    }\n",
       "\n",
       "    .dataframe tbody tr th {\n",
       "        vertical-align: top;\n",
       "    }\n",
       "\n",
       "    .dataframe thead th {\n",
       "        text-align: right;\n",
       "    }\n",
       "</style>\n",
       "<table border=\"1\" class=\"dataframe\">\n",
       "  <thead>\n",
       "    <tr style=\"text-align: right;\">\n",
       "      <th></th>\n",
       "      <th>ID_No</th>\n",
       "      <th>Location</th>\n",
       "      <th>Type</th>\n",
       "      <th>Serial_No</th>\n",
       "      <th>Description</th>\n",
       "      <th>Cal_Date</th>\n",
       "      <th>Cal_Due_Date</th>\n",
       "      <th>Owner</th>\n",
       "      <th>Comment</th>\n",
       "    </tr>\n",
       "  </thead>\n",
       "  <tbody>\n",
       "    <tr>\n",
       "      <th>0</th>\n",
       "      <td>50PROBE01</td>\n",
       "      <td>QC Lab</td>\n",
       "      <td>Thermometer</td>\n",
       "      <td>210152050</td>\n",
       "      <td>Ultra-Low Temperature WIFI Data Logger</td>\n",
       "      <td>2023-11-16</td>\n",
       "      <td>2024-11-30</td>\n",
       "      <td>Andy</td>\n",
       "      <td>NaN</td>\n",
       "    </tr>\n",
       "    <tr>\n",
       "      <th>1</th>\n",
       "      <td>50PROBE02</td>\n",
       "      <td>QC Lab</td>\n",
       "      <td>Thermometer</td>\n",
       "      <td>210151995</td>\n",
       "      <td>Ultra-Low Temperature WIFI Data Logger</td>\n",
       "      <td>2023-11-16</td>\n",
       "      <td>2024-11-30</td>\n",
       "      <td>Andy</td>\n",
       "      <td>NaN</td>\n",
       "    </tr>\n",
       "    <tr>\n",
       "      <th>2</th>\n",
       "      <td>50PROBE03</td>\n",
       "      <td>QC Lab</td>\n",
       "      <td>Thermometer</td>\n",
       "      <td>210152045</td>\n",
       "      <td>Ultra-Low Temperature WIFI Data Logger</td>\n",
       "      <td>2023-11-16</td>\n",
       "      <td>2024-11-30</td>\n",
       "      <td>Andy</td>\n",
       "      <td>NaN</td>\n",
       "    </tr>\n",
       "    <tr>\n",
       "      <th>3</th>\n",
       "      <td>50PROBE04</td>\n",
       "      <td>QC Lab</td>\n",
       "      <td>Thermometer</td>\n",
       "      <td>210152019</td>\n",
       "      <td>Ultra-Low Temperature WIFI Data Logger</td>\n",
       "      <td>2023-11-16</td>\n",
       "      <td>2024-11-30</td>\n",
       "      <td>Andy</td>\n",
       "      <td>NaN</td>\n",
       "    </tr>\n",
       "    <tr>\n",
       "      <th>4</th>\n",
       "      <td>50PROBE05</td>\n",
       "      <td>QC Lab</td>\n",
       "      <td>Thermometer</td>\n",
       "      <td>210152052</td>\n",
       "      <td>Ultra-Low Temperature WIFI Data Logger</td>\n",
       "      <td>2023-11-16</td>\n",
       "      <td>2024-11-30</td>\n",
       "      <td>Andy</td>\n",
       "      <td>NaN</td>\n",
       "    </tr>\n",
       "  </tbody>\n",
       "</table>\n",
       "</div>"
      ],
      "text/plain": [
       "       ID_No Location         Type  Serial_No  \\\n",
       "0  50PROBE01   QC Lab  Thermometer  210152050   \n",
       "1  50PROBE02   QC Lab  Thermometer  210151995   \n",
       "2  50PROBE03   QC Lab  Thermometer  210152045   \n",
       "3  50PROBE04   QC Lab  Thermometer  210152019   \n",
       "4  50PROBE05   QC Lab  Thermometer  210152052   \n",
       "\n",
       "                              Description    Cal_Date Cal_Due_Date Owner  \\\n",
       "0  Ultra-Low Temperature WIFI Data Logger  2023-11-16   2024-11-30  Andy   \n",
       "1  Ultra-Low Temperature WIFI Data Logger  2023-11-16   2024-11-30  Andy   \n",
       "2  Ultra-Low Temperature WIFI Data Logger  2023-11-16   2024-11-30  Andy   \n",
       "3  Ultra-Low Temperature WIFI Data Logger  2023-11-16   2024-11-30  Andy   \n",
       "4  Ultra-Low Temperature WIFI Data Logger  2023-11-16   2024-11-30  Andy   \n",
       "\n",
       "   Comment  \n",
       "0      NaN  \n",
       "1      NaN  \n",
       "2      NaN  \n",
       "3      NaN  \n",
       "4      NaN  "
      ]
     },
     "execution_count": 5,
     "metadata": {},
     "output_type": "execute_result"
    }
   ],
   "source": [
    "file = 'Equipment_and_Metrology_Database.csv'\n",
    "excel = pd.read_csv(file,index_col=False)\n",
    "temp = pd.DataFrame(excel)\n",
    "temp.head()"
   ]
  },
  {
   "cell_type": "code",
   "execution_count": 6,
   "id": "581a3b8e",
   "metadata": {},
   "outputs": [
    {
     "data": {
      "text/plain": [
       "Index(['ID_No', 'Location', 'Type', 'Serial_No', 'Description', 'Cal_Date',\n",
       "       'Cal_Due_Date', 'Owner', 'Comment'],\n",
       "      dtype='object')"
      ]
     },
     "execution_count": 6,
     "metadata": {},
     "output_type": "execute_result"
    }
   ],
   "source": [
    "temp.columns"
   ]
  },
  {
   "cell_type": "code",
   "execution_count": 7,
   "id": "801ef087",
   "metadata": {},
   "outputs": [
    {
     "name": "stdout",
     "output_type": "stream",
     "text": [
      "<class 'pandas.core.frame.DataFrame'>\n",
      "RangeIndex: 216 entries, 0 to 215\n",
      "Data columns (total 9 columns):\n",
      " #   Column        Non-Null Count  Dtype  \n",
      "---  ------        --------------  -----  \n",
      " 0   ID_No         206 non-null    object \n",
      " 1   Location      215 non-null    object \n",
      " 2   Type          215 non-null    object \n",
      " 3   Serial_No     212 non-null    object \n",
      " 4   Description   213 non-null    object \n",
      " 5   Cal_Date      159 non-null    object \n",
      " 6   Cal_Due_Date  166 non-null    object \n",
      " 7   Owner         118 non-null    object \n",
      " 8   Comment       0 non-null      float64\n",
      "dtypes: float64(1), object(8)\n",
      "memory usage: 15.3+ KB\n"
     ]
    }
   ],
   "source": [
    "temp.info()"
   ]
  },
  {
   "cell_type": "code",
   "execution_count": 12,
   "id": "13ee9f09-f073-4b15-97ea-52e95115c13c",
   "metadata": {},
   "outputs": [
    {
     "data": {
      "text/html": [
       "<div>\n",
       "<style scoped>\n",
       "    .dataframe tbody tr th:only-of-type {\n",
       "        vertical-align: middle;\n",
       "    }\n",
       "\n",
       "    .dataframe tbody tr th {\n",
       "        vertical-align: top;\n",
       "    }\n",
       "\n",
       "    .dataframe thead th {\n",
       "        text-align: right;\n",
       "    }\n",
       "</style>\n",
       "<table border=\"1\" class=\"dataframe\">\n",
       "  <thead>\n",
       "    <tr style=\"text-align: right;\">\n",
       "      <th></th>\n",
       "      <th>ID_No</th>\n",
       "      <th>Location</th>\n",
       "      <th>Type</th>\n",
       "      <th>Serial_No</th>\n",
       "      <th>Description</th>\n",
       "      <th>Cal_Date</th>\n",
       "      <th>Cal_Due_Date</th>\n",
       "      <th>Owner</th>\n",
       "      <th>Comment</th>\n",
       "    </tr>\n",
       "  </thead>\n",
       "  <tbody>\n",
       "    <tr>\n",
       "      <th>0</th>\n",
       "      <td>50PROBE01</td>\n",
       "      <td>QC Lab</td>\n",
       "      <td>Thermometer</td>\n",
       "      <td>210152050</td>\n",
       "      <td>Ultra-Low Temperature WIFI Data Logger</td>\n",
       "      <td>2023-11-16</td>\n",
       "      <td>2024-11-30</td>\n",
       "      <td>Andy</td>\n",
       "      <td>nan</td>\n",
       "    </tr>\n",
       "    <tr>\n",
       "      <th>1</th>\n",
       "      <td>50PROBE02</td>\n",
       "      <td>QC Lab</td>\n",
       "      <td>Thermometer</td>\n",
       "      <td>210151995</td>\n",
       "      <td>Ultra-Low Temperature WIFI Data Logger</td>\n",
       "      <td>2023-11-16</td>\n",
       "      <td>2024-11-30</td>\n",
       "      <td>Andy</td>\n",
       "      <td>nan</td>\n",
       "    </tr>\n",
       "    <tr>\n",
       "      <th>2</th>\n",
       "      <td>50PROBE03</td>\n",
       "      <td>QC Lab</td>\n",
       "      <td>Thermometer</td>\n",
       "      <td>210152045</td>\n",
       "      <td>Ultra-Low Temperature WIFI Data Logger</td>\n",
       "      <td>2023-11-16</td>\n",
       "      <td>2024-11-30</td>\n",
       "      <td>Andy</td>\n",
       "      <td>nan</td>\n",
       "    </tr>\n",
       "    <tr>\n",
       "      <th>3</th>\n",
       "      <td>50PROBE04</td>\n",
       "      <td>QC Lab</td>\n",
       "      <td>Thermometer</td>\n",
       "      <td>210152019</td>\n",
       "      <td>Ultra-Low Temperature WIFI Data Logger</td>\n",
       "      <td>2023-11-16</td>\n",
       "      <td>2024-11-30</td>\n",
       "      <td>Andy</td>\n",
       "      <td>nan</td>\n",
       "    </tr>\n",
       "    <tr>\n",
       "      <th>4</th>\n",
       "      <td>50PROBE05</td>\n",
       "      <td>QC Lab</td>\n",
       "      <td>Thermometer</td>\n",
       "      <td>210152052</td>\n",
       "      <td>Ultra-Low Temperature WIFI Data Logger</td>\n",
       "      <td>2023-11-16</td>\n",
       "      <td>2024-11-30</td>\n",
       "      <td>Andy</td>\n",
       "      <td>nan</td>\n",
       "    </tr>\n",
       "  </tbody>\n",
       "</table>\n",
       "</div>"
      ],
      "text/plain": [
       "       ID_No Location         Type  Serial_No  \\\n",
       "0  50PROBE01   QC Lab  Thermometer  210152050   \n",
       "1  50PROBE02   QC Lab  Thermometer  210151995   \n",
       "2  50PROBE03   QC Lab  Thermometer  210152045   \n",
       "3  50PROBE04   QC Lab  Thermometer  210152019   \n",
       "4  50PROBE05   QC Lab  Thermometer  210152052   \n",
       "\n",
       "                              Description    Cal_Date Cal_Due_Date Owner  \\\n",
       "0  Ultra-Low Temperature WIFI Data Logger  2023-11-16   2024-11-30  Andy   \n",
       "1  Ultra-Low Temperature WIFI Data Logger  2023-11-16   2024-11-30  Andy   \n",
       "2  Ultra-Low Temperature WIFI Data Logger  2023-11-16   2024-11-30  Andy   \n",
       "3  Ultra-Low Temperature WIFI Data Logger  2023-11-16   2024-11-30  Andy   \n",
       "4  Ultra-Low Temperature WIFI Data Logger  2023-11-16   2024-11-30  Andy   \n",
       "\n",
       "  Comment  \n",
       "0     nan  \n",
       "1     nan  \n",
       "2     nan  \n",
       "3     nan  \n",
       "4     nan  "
      ]
     },
     "execution_count": 12,
     "metadata": {},
     "output_type": "execute_result"
    }
   ],
   "source": [
    "temp = temp.astype('str')\n",
    "temp.head()"
   ]
  },
  {
   "cell_type": "code",
   "execution_count": 13,
   "id": "fb30209d-9280-468c-a399-f521de6100ec",
   "metadata": {},
   "outputs": [
    {
     "name": "stdout",
     "output_type": "stream",
     "text": [
      "<class 'pandas.core.frame.DataFrame'>\n",
      "RangeIndex: 216 entries, 0 to 215\n",
      "Data columns (total 9 columns):\n",
      " #   Column        Non-Null Count  Dtype \n",
      "---  ------        --------------  ----- \n",
      " 0   ID_No         216 non-null    object\n",
      " 1   Location      216 non-null    object\n",
      " 2   Type          216 non-null    object\n",
      " 3   Serial_No     216 non-null    object\n",
      " 4   Description   216 non-null    object\n",
      " 5   Cal_Date      216 non-null    object\n",
      " 6   Cal_Due_Date  216 non-null    object\n",
      " 7   Owner         216 non-null    object\n",
      " 8   Comment       216 non-null    object\n",
      "dtypes: object(9)\n",
      "memory usage: 15.3+ KB\n"
     ]
    }
   ],
   "source": [
    "temp.info()"
   ]
  },
  {
   "cell_type": "code",
   "execution_count": 14,
   "id": "49a56c31-415c-476e-8c9d-294a8780f788",
   "metadata": {},
   "outputs": [],
   "source": [
    "temp.to_csv('Equipment_and_Metrology_Database.csv', index=False)"
   ]
  },
  {
   "cell_type": "code",
   "execution_count": 4,
   "id": "8b4d9172-08a4-4ab7-9145-cb506a44b1bc",
   "metadata": {},
   "outputs": [
    {
     "name": "stdout",
     "output_type": "stream",
     "text": [
      "<class 'pandas.core.frame.DataFrame'>\n",
      "RangeIndex: 7152 entries, 0 to 7151\n",
      "Data columns (total 11 columns):\n",
      " #   Column                     Non-Null Count  Dtype \n",
      "---  ------                     --------------  ----- \n",
      " 0   First Name                 7151 non-null   object\n",
      " 1   Last Name                  7151 non-null   object\n",
      " 2   Qualification_Description  458 non-null    object\n",
      " 3   Qualification_Option       612 non-null    object\n",
      " 4   Qualification_Date         584 non-null    object\n",
      " 5   SOP Number                 6491 non-null   object\n",
      " 6   SOP Title                  6775 non-null   object\n",
      " 7   Revision                   6482 non-null   object\n",
      " 8   Read and Understood Date   6123 non-null   object\n",
      " 9   Date Entered               6736 non-null   object\n",
      " 10  Entry Intial:              4512 non-null   object\n",
      "dtypes: object(11)\n",
      "memory usage: 614.8+ KB\n"
     ]
    }
   ],
   "source": [
    "data.info()"
   ]
  },
  {
   "cell_type": "code",
   "execution_count": null,
   "id": "d2e6538e-7a4f-460d-89ff-8fe1e0f65499",
   "metadata": {},
   "outputs": [],
   "source": []
  }
 ],
 "metadata": {
  "kernelspec": {
   "display_name": "Python 3 (ipykernel)",
   "language": "python",
   "name": "python3"
  },
  "language_info": {
   "codemirror_mode": {
    "name": "ipython",
    "version": 3
   },
   "file_extension": ".py",
   "mimetype": "text/x-python",
   "name": "python",
   "nbconvert_exporter": "python",
   "pygments_lexer": "ipython3",
   "version": "3.11.7"
  }
 },
 "nbformat": 4,
 "nbformat_minor": 5
}
