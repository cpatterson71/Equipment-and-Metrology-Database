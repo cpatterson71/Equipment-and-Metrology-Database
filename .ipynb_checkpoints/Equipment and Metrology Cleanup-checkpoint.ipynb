{
 "cells": [
  {
   "cell_type": "code",
   "execution_count": 1,
   "id": "1375ce88-cc49-4184-b314-4d7e4d667fe3",
   "metadata": {},
   "outputs": [],
   "source": [
    "import pandas as pd\n",
    "import numpy as np\n",
    "import streamlit as st\n",
    "import altair as alt\n",
    "from datetime import datetime as dt"
   ]
  },
  {
   "cell_type": "code",
   "execution_count": 4,
   "id": "9cf3b04c-04d1-4c5d-b83d-5b41959215e3",
   "metadata": {},
   "outputs": [
    {
     "data": {
      "text/html": [
       "<div>\n",
       "<style scoped>\n",
       "    .dataframe tbody tr th:only-of-type {\n",
       "        vertical-align: middle;\n",
       "    }\n",
       "\n",
       "    .dataframe tbody tr th {\n",
       "        vertical-align: top;\n",
       "    }\n",
       "\n",
       "    .dataframe thead th {\n",
       "        text-align: right;\n",
       "    }\n",
       "</style>\n",
       "<table border=\"1\" class=\"dataframe\">\n",
       "  <thead>\n",
       "    <tr style=\"text-align: right;\">\n",
       "      <th></th>\n",
       "      <th>Location</th>\n",
       "      <th>Type</th>\n",
       "      <th>Serial #</th>\n",
       "      <th>Description</th>\n",
       "      <th>Cal. Date</th>\n",
       "      <th>Cal. due Date</th>\n",
       "      <th>Comment</th>\n",
       "      <th>Owner</th>\n",
       "    </tr>\n",
       "  </thead>\n",
       "  <tbody>\n",
       "    <tr>\n",
       "      <th>0</th>\n",
       "      <td>QC Lab</td>\n",
       "      <td>Thermometer</td>\n",
       "      <td>210152050</td>\n",
       "      <td>Ultra-Low Temperature WIFI Data Logger</td>\n",
       "      <td>2023-11-16</td>\n",
       "      <td>2024-11-30</td>\n",
       "      <td>NaN</td>\n",
       "      <td>Andy</td>\n",
       "    </tr>\n",
       "    <tr>\n",
       "      <th>1</th>\n",
       "      <td>QC Lab</td>\n",
       "      <td>Thermometer</td>\n",
       "      <td>210151995</td>\n",
       "      <td>Ultra-Low Temperature WIFI Data Logger</td>\n",
       "      <td>2023-11-16</td>\n",
       "      <td>2024-11-30</td>\n",
       "      <td>NaN</td>\n",
       "      <td>Andy</td>\n",
       "    </tr>\n",
       "    <tr>\n",
       "      <th>2</th>\n",
       "      <td>QC Lab</td>\n",
       "      <td>Thermometer</td>\n",
       "      <td>210152045</td>\n",
       "      <td>Ultra-Low Temperature WIFI Data Logger</td>\n",
       "      <td>2023-11-16</td>\n",
       "      <td>2024-11-30</td>\n",
       "      <td>NaN</td>\n",
       "      <td>Andy</td>\n",
       "    </tr>\n",
       "    <tr>\n",
       "      <th>3</th>\n",
       "      <td>QC Lab</td>\n",
       "      <td>Thermometer</td>\n",
       "      <td>210152019</td>\n",
       "      <td>Ultra-Low Temperature WIFI Data Logger</td>\n",
       "      <td>2023-11-16</td>\n",
       "      <td>2024-11-30</td>\n",
       "      <td>NaN</td>\n",
       "      <td>Andy</td>\n",
       "    </tr>\n",
       "    <tr>\n",
       "      <th>4</th>\n",
       "      <td>QC Lab</td>\n",
       "      <td>Thermometer</td>\n",
       "      <td>210152052</td>\n",
       "      <td>Ultra-Low Temperature WIFI Data Logger</td>\n",
       "      <td>2023-11-16</td>\n",
       "      <td>2024-11-30</td>\n",
       "      <td>NaN</td>\n",
       "      <td>Andy</td>\n",
       "    </tr>\n",
       "  </tbody>\n",
       "</table>\n",
       "</div>"
      ],
      "text/plain": [
       "  Location         Type   Serial #                             Description  \\\n",
       "0   QC Lab  Thermometer  210152050  Ultra-Low Temperature WIFI Data Logger   \n",
       "1   QC Lab  Thermometer  210151995  Ultra-Low Temperature WIFI Data Logger   \n",
       "2   QC Lab  Thermometer  210152045  Ultra-Low Temperature WIFI Data Logger   \n",
       "3   QC Lab  Thermometer  210152019  Ultra-Low Temperature WIFI Data Logger   \n",
       "4   QC Lab  Thermometer  210152052  Ultra-Low Temperature WIFI Data Logger   \n",
       "\n",
       "    Cal. Date Cal. due Date  Comment Owner  \n",
       "0  2023-11-16    2024-11-30      NaN  Andy  \n",
       "1  2023-11-16    2024-11-30      NaN  Andy  \n",
       "2  2023-11-16    2024-11-30      NaN  Andy  \n",
       "3  2023-11-16    2024-11-30      NaN  Andy  \n",
       "4  2023-11-16    2024-11-30      NaN  Andy  "
      ]
     },
     "execution_count": 4,
     "metadata": {},
     "output_type": "execute_result"
    }
   ],
   "source": [
    "file = 'Equipment_and_Metrology_Database.xlsx'\n",
    "excel = pd.read_excel(file,index_col=False)\n",
    "temp = pd.DataFrame(excel)\n",
    "temp.head()"
   ]
  },
  {
   "cell_type": "code",
   "execution_count": 5,
   "id": "d5f482de-5bec-4559-beca-daa3412d4abd",
   "metadata": {},
   "outputs": [
    {
     "data": {
      "text/plain": [
       "Index(['Location', 'Type', 'Serial #', 'Description', 'Cal. Date',\n",
       "       'Cal. due Date', 'Comment', 'Owner'],\n",
       "      dtype='object')"
      ]
     },
     "execution_count": 5,
     "metadata": {},
     "output_type": "execute_result"
    }
   ],
   "source": [
    "temp.columns"
   ]
  },
  {
   "cell_type": "code",
   "execution_count": 6,
   "id": "da17106f-1af5-4f5f-af17-8ef2c26ca225",
   "metadata": {},
   "outputs": [
    {
     "name": "stdout",
     "output_type": "stream",
     "text": [
      "<class 'pandas.core.frame.DataFrame'>\n",
      "RangeIndex: 211 entries, 0 to 210\n",
      "Data columns (total 8 columns):\n",
      " #   Column         Non-Null Count  Dtype  \n",
      "---  ------         --------------  -----  \n",
      " 0   Location       210 non-null    object \n",
      " 1   Type           210 non-null    object \n",
      " 2   Serial #       207 non-null    object \n",
      " 3   Description    208 non-null    object \n",
      " 4   Cal. Date      158 non-null    object \n",
      " 5   Cal. due Date  165 non-null    object \n",
      " 6   Comment        0 non-null      float64\n",
      " 7   Owner          118 non-null    object \n",
      "dtypes: float64(1), object(7)\n",
      "memory usage: 13.3+ KB\n"
     ]
    }
   ],
   "source": [
    "temp.info()"
   ]
  },
  {
   "cell_type": "code",
   "execution_count": 7,
   "id": "ab853361-6af5-4b04-8795-4f6d74a50e0b",
   "metadata": {},
   "outputs": [
    {
     "data": {
      "text/html": [
       "<div>\n",
       "<style scoped>\n",
       "    .dataframe tbody tr th:only-of-type {\n",
       "        vertical-align: middle;\n",
       "    }\n",
       "\n",
       "    .dataframe tbody tr th {\n",
       "        vertical-align: top;\n",
       "    }\n",
       "\n",
       "    .dataframe thead th {\n",
       "        text-align: right;\n",
       "    }\n",
       "</style>\n",
       "<table border=\"1\" class=\"dataframe\">\n",
       "  <thead>\n",
       "    <tr style=\"text-align: right;\">\n",
       "      <th></th>\n",
       "      <th>Location</th>\n",
       "      <th>Type</th>\n",
       "      <th>Serial #</th>\n",
       "      <th>Description</th>\n",
       "      <th>Cal. Date</th>\n",
       "      <th>Cal. due Date</th>\n",
       "      <th>Comment</th>\n",
       "      <th>Owner</th>\n",
       "    </tr>\n",
       "  </thead>\n",
       "  <tbody>\n",
       "    <tr>\n",
       "      <th>0</th>\n",
       "      <td>QC Lab</td>\n",
       "      <td>Thermometer</td>\n",
       "      <td>210152050</td>\n",
       "      <td>Ultra-Low Temperature WIFI Data Logger</td>\n",
       "      <td>2</td>\n",
       "      <td>2024-11-30</td>\n",
       "      <td>NaN</td>\n",
       "      <td>Andy</td>\n",
       "    </tr>\n",
       "    <tr>\n",
       "      <th>1</th>\n",
       "      <td>QC Lab</td>\n",
       "      <td>Thermometer</td>\n",
       "      <td>210151995</td>\n",
       "      <td>Ultra-Low Temperature WIFI Data Logger</td>\n",
       "      <td>2</td>\n",
       "      <td>2024-11-30</td>\n",
       "      <td>NaN</td>\n",
       "      <td>Andy</td>\n",
       "    </tr>\n",
       "    <tr>\n",
       "      <th>2</th>\n",
       "      <td>QC Lab</td>\n",
       "      <td>Thermometer</td>\n",
       "      <td>210152045</td>\n",
       "      <td>Ultra-Low Temperature WIFI Data Logger</td>\n",
       "      <td>2</td>\n",
       "      <td>2024-11-30</td>\n",
       "      <td>NaN</td>\n",
       "      <td>Andy</td>\n",
       "    </tr>\n",
       "    <tr>\n",
       "      <th>3</th>\n",
       "      <td>QC Lab</td>\n",
       "      <td>Thermometer</td>\n",
       "      <td>210152019</td>\n",
       "      <td>Ultra-Low Temperature WIFI Data Logger</td>\n",
       "      <td>2</td>\n",
       "      <td>2024-11-30</td>\n",
       "      <td>NaN</td>\n",
       "      <td>Andy</td>\n",
       "    </tr>\n",
       "    <tr>\n",
       "      <th>4</th>\n",
       "      <td>QC Lab</td>\n",
       "      <td>Thermometer</td>\n",
       "      <td>210152052</td>\n",
       "      <td>Ultra-Low Temperature WIFI Data Logger</td>\n",
       "      <td>2</td>\n",
       "      <td>2024-11-30</td>\n",
       "      <td>NaN</td>\n",
       "      <td>Andy</td>\n",
       "    </tr>\n",
       "  </tbody>\n",
       "</table>\n",
       "</div>"
      ],
      "text/plain": [
       "  Location         Type   Serial #                             Description  \\\n",
       "0   QC Lab  Thermometer  210152050  Ultra-Low Temperature WIFI Data Logger   \n",
       "1   QC Lab  Thermometer  210151995  Ultra-Low Temperature WIFI Data Logger   \n",
       "2   QC Lab  Thermometer  210152045  Ultra-Low Temperature WIFI Data Logger   \n",
       "3   QC Lab  Thermometer  210152019  Ultra-Low Temperature WIFI Data Logger   \n",
       "4   QC Lab  Thermometer  210152052  Ultra-Low Temperature WIFI Data Logger   \n",
       "\n",
       "  Cal. Date Cal. due Date  Comment Owner  \n",
       "0         2    2024-11-30      NaN  Andy  \n",
       "1         2    2024-11-30      NaN  Andy  \n",
       "2         2    2024-11-30      NaN  Andy  \n",
       "3         2    2024-11-30      NaN  Andy  \n",
       "4         2    2024-11-30      NaN  Andy  "
      ]
     },
     "execution_count": 7,
     "metadata": {},
     "output_type": "execute_result"
    }
   ],
   "source": [
    "tests = temp['Cal. Date'].astype(str)\n",
    "dates = []\n",
    "for test in tests:\n",
    "    dates.append(test[:-9])\n",
    "temp['Cal. Date']=dates\n",
    "temp.head()"
   ]
  },
  {
   "cell_type": "code",
   "execution_count": null,
   "id": "8533e9e4-1ed8-4c88-834a-624150fe016c",
   "metadata": {},
   "outputs": [],
   "source": [
    "date = temp['Cal. due Date'].astype(str)\n",
    "why = []\n",
    "for date in date:\n",
    "    why.append(date[:-9])\n",
    "temp['Cal. due Date'] = why\n",
    "temp.head()"
   ]
  },
  {
   "cell_type": "code",
   "execution_count": null,
   "id": "42bc7558-1ff9-498a-b1ee-39cc17191580",
   "metadata": {},
   "outputs": [],
   "source": [
    "temp.columns"
   ]
  },
  {
   "cell_type": "code",
   "execution_count": null,
   "id": "4b412866-083a-4729-a3b6-bfe372216c7f",
   "metadata": {},
   "outputs": [],
   "source": [
    "temp = temp.loc[:,['Location', 'Type', 'Serial #', 'Description', 'Cal. Date', 'Cal. due Date',\n",
    "                   'Comment', 'Owner']]\n",
    "temp.head()"
   ]
  },
  {
   "cell_type": "code",
   "execution_count": null,
   "id": "fc4096c0-bcc9-4695-b721-82c6ee924388",
   "metadata": {},
   "outputs": [],
   "source": [
    "temp.head()"
   ]
  },
  {
   "cell_type": "code",
   "execution_count": 8,
   "id": "caae7839-1654-4031-88a7-1dcd48ac1d32",
   "metadata": {},
   "outputs": [
    {
     "ename": "AttributeError",
     "evalue": "'Series' object has no attribute 'date_range'",
     "output_type": "error",
     "traceback": [
      "\u001b[1;31m---------------------------------------------------------------------------\u001b[0m",
      "\u001b[1;31mAttributeError\u001b[0m                            Traceback (most recent call last)",
      "\u001b[1;32m~\\AppData\\Local\\Temp\\ipykernel_34344\\785730964.py\u001b[0m in \u001b[0;36m?\u001b[1;34m()\u001b[0m\n\u001b[1;32m----> 1\u001b[1;33m \u001b[0mtemp\u001b[0m\u001b[1;33m[\u001b[0m\u001b[1;34m'Cal. Date'\u001b[0m\u001b[1;33m]\u001b[0m\u001b[1;33m.\u001b[0m\u001b[0mdate_range\u001b[0m\u001b[1;33m(\u001b[0m\u001b[0mstart\u001b[0m\u001b[1;33m=\u001b[0m\u001b[1;34m'2024-11-01'\u001b[0m\u001b[1;33m,\u001b[0m \u001b[0mend\u001b[0m\u001b[1;33m=\u001b[0m\u001b[1;34m'2024-11-30'\u001b[0m\u001b[1;33m,\u001b[0m \u001b[0mfreq\u001b[0m\u001b[1;33m=\u001b[0m\u001b[1;34m'ME'\u001b[0m\u001b[1;33m)\u001b[0m\u001b[1;33m\u001b[0m\u001b[1;33m\u001b[0m\u001b[0m\n\u001b[0m\u001b[0;32m      2\u001b[0m \u001b[0mtemp\u001b[0m\u001b[1;33m.\u001b[0m\u001b[0mhead\u001b[0m\u001b[1;33m\u001b[0m\u001b[1;33m\u001b[0m\u001b[0m\n",
      "\u001b[1;32m~\\miniconda3\\Lib\\site-packages\\pandas\\core\\generic.py\u001b[0m in \u001b[0;36m?\u001b[1;34m(self, name)\u001b[0m\n\u001b[0;32m   6200\u001b[0m             \u001b[1;32mand\u001b[0m \u001b[0mname\u001b[0m \u001b[1;32mnot\u001b[0m \u001b[1;32min\u001b[0m \u001b[0mself\u001b[0m\u001b[1;33m.\u001b[0m\u001b[0m_accessors\u001b[0m\u001b[1;33m\u001b[0m\u001b[1;33m\u001b[0m\u001b[0m\n\u001b[0;32m   6201\u001b[0m             \u001b[1;32mand\u001b[0m \u001b[0mself\u001b[0m\u001b[1;33m.\u001b[0m\u001b[0m_info_axis\u001b[0m\u001b[1;33m.\u001b[0m\u001b[0m_can_hold_identifiers_and_holds_name\u001b[0m\u001b[1;33m(\u001b[0m\u001b[0mname\u001b[0m\u001b[1;33m)\u001b[0m\u001b[1;33m\u001b[0m\u001b[1;33m\u001b[0m\u001b[0m\n\u001b[0;32m   6202\u001b[0m         ):\n\u001b[0;32m   6203\u001b[0m             \u001b[1;32mreturn\u001b[0m \u001b[0mself\u001b[0m\u001b[1;33m[\u001b[0m\u001b[0mname\u001b[0m\u001b[1;33m]\u001b[0m\u001b[1;33m\u001b[0m\u001b[1;33m\u001b[0m\u001b[0m\n\u001b[1;32m-> 6204\u001b[1;33m         \u001b[1;32mreturn\u001b[0m \u001b[0mobject\u001b[0m\u001b[1;33m.\u001b[0m\u001b[0m__getattribute__\u001b[0m\u001b[1;33m(\u001b[0m\u001b[0mself\u001b[0m\u001b[1;33m,\u001b[0m \u001b[0mname\u001b[0m\u001b[1;33m)\u001b[0m\u001b[1;33m\u001b[0m\u001b[1;33m\u001b[0m\u001b[0m\n\u001b[0m",
      "\u001b[1;31mAttributeError\u001b[0m: 'Series' object has no attribute 'date_range'"
     ]
    }
   ],
   "source": [
    "temp['Cal. Date'].date_range(start='2024-11-01', end='2024-11-30', freq='ME')\n",
    "temp.head"
   ]
  },
  {
   "cell_type": "code",
   "execution_count": null,
   "id": "01731839-7224-4957-ba39-52cb1c7c47a3",
   "metadata": {},
   "outputs": [],
   "source": [
    "temp.to_excel(file, index=False)"
   ]
  }
 ],
 "metadata": {
  "kernelspec": {
   "display_name": "Python 3 (ipykernel)",
   "language": "python",
   "name": "python3"
  },
  "language_info": {
   "codemirror_mode": {
    "name": "ipython",
    "version": 3
   },
   "file_extension": ".py",
   "mimetype": "text/x-python",
   "name": "python",
   "nbconvert_exporter": "python",
   "pygments_lexer": "ipython3",
   "version": "3.11.7"
  }
 },
 "nbformat": 4,
 "nbformat_minor": 5
}
